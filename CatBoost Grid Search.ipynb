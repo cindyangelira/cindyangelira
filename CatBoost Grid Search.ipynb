{
  "nbformat": 4,
  "nbformat_minor": 0,
  "metadata": {
    "kernelspec": {
      "language": "python",
      "display_name": "Python 3",
      "name": "python3"
    },
    "language_info": {
      "pygments_lexer": "ipython3",
      "nbconvert_exporter": "python",
      "version": "3.6.4",
      "file_extension": ".py",
      "codemirror_mode": {
        "name": "ipython",
        "version": 3
      },
      "name": "python",
      "mimetype": "text/x-python"
    },
    "colab": {
      "name": "credit-card-with-catboost (1).ipynb",
      "provenance": [],
      "include_colab_link": true
    }
  },
  "cells": [
    {
      "cell_type": "markdown",
      "metadata": {
        "id": "view-in-github",
        "colab_type": "text"
      },
      "source": [
        "<a href=\"https://colab.research.google.com/github/cindyangelira/cindyangelira/blob/main/CatBoost%20Grid%20Search.ipynb\" target=\"_parent\"><img src=\"https://colab.research.google.com/assets/colab-badge.svg\" alt=\"Open In Colab\"/></a>"
      ]
    },
    {
      "cell_type": "code",
      "metadata": {
        "_uuid": "8f2839f25d086af736a60e9eeb907d3b93b6e0e5",
        "_cell_guid": "b1076dfc-b9ad-4769-8c92-a6c4dae69d19",
        "execution": {
          "iopub.status.busy": "2021-10-20T12:32:16.980542Z",
          "iopub.execute_input": "2021-10-20T12:32:16.980861Z",
          "iopub.status.idle": "2021-10-20T12:32:16.991094Z",
          "shell.execute_reply.started": "2021-10-20T12:32:16.980830Z",
          "shell.execute_reply": "2021-10-20T12:32:16.990021Z"
        },
        "trusted": true,
        "id": "8BscpfEf08_5"
      },
      "source": [
        "# This Python 3 environment comes with many helpful analytics libraries installed\n",
        "# It is defined by the kaggle/python Docker image: https://github.com/kaggle/docker-python\n",
        "# For example, here's several helpful packages to load\n",
        "\n",
        "import numpy as np # linear algebra\n",
        "import pandas as pd # data processing, CSV file I/O (e.g. pd.read_csv)\n",
        "\n",
        "# Input data files are available in the read-only \"../input/\" directory\n",
        "# For example, running this (by clicking run or pressing Shift+Enter) will list all files under the input directory\n",
        "\n",
        "import os\n",
        "for dirname, _, filenames in os.walk('/kaggle/input'):\n",
        "    for filename in filenames:\n",
        "        print(os.path.join(dirname, filename))\n",
        "\n",
        "# You can write up to 20GB to the current directory (/kaggle/working/) that gets preserved as output when you create a version using \"Save & Run All\" \n",
        "# You can also write temporary files to /kaggle/temp/, but they won't be saved outside of the current session"
      ],
      "execution_count": null,
      "outputs": []
    },
    {
      "cell_type": "code",
      "metadata": {
        "execution": {
          "iopub.status.busy": "2021-10-20T12:32:16.993046Z",
          "iopub.execute_input": "2021-10-20T12:32:16.993644Z",
          "iopub.status.idle": "2021-10-20T12:32:17.003252Z",
          "shell.execute_reply.started": "2021-10-20T12:32:16.993611Z",
          "shell.execute_reply": "2021-10-20T12:32:17.001177Z"
        },
        "trusted": true,
        "id": "0JaG3Oz109AB"
      },
      "source": [
        "#Import Package\n",
        "\n",
        "\n",
        "import pandas as pd\n",
        "import numpy as np\n",
        "import seaborn as sns\n",
        "import matplotlib.pyplot as plt"
      ],
      "execution_count": null,
      "outputs": []
    },
    {
      "cell_type": "code",
      "metadata": {
        "execution": {
          "iopub.status.busy": "2021-10-20T12:32:17.005114Z",
          "iopub.execute_input": "2021-10-20T12:32:17.006119Z",
          "iopub.status.idle": "2021-10-20T12:32:19.723894Z",
          "shell.execute_reply.started": "2021-10-20T12:32:17.006067Z",
          "shell.execute_reply": "2021-10-20T12:32:19.723243Z"
        },
        "trusted": true,
        "id": "IsyQd2Bs09AC"
      },
      "source": [
        "#Load the dataset\n",
        "\n",
        "\n",
        "data = pd.read_csv('../input/creditcardfraud/creditcard.csv')"
      ],
      "execution_count": null,
      "outputs": []
    },
    {
      "cell_type": "markdown",
      "metadata": {
        "id": "m6kN1Z4209AD"
      },
      "source": [
        "Before dive in more into dataset, it's always good to take a look at the data first."
      ]
    },
    {
      "cell_type": "code",
      "metadata": {
        "execution": {
          "iopub.status.busy": "2021-10-20T12:32:19.725079Z",
          "iopub.execute_input": "2021-10-20T12:32:19.725980Z",
          "iopub.status.idle": "2021-10-20T12:32:19.759415Z",
          "shell.execute_reply.started": "2021-10-20T12:32:19.725934Z",
          "shell.execute_reply": "2021-10-20T12:32:19.758752Z"
        },
        "trusted": true,
        "id": "pp-eyqMu09AG"
      },
      "source": [
        "#Take a look at data\n",
        "\n",
        "\n",
        "data.head()"
      ],
      "execution_count": null,
      "outputs": []
    },
    {
      "cell_type": "markdown",
      "metadata": {
        "id": "O9vrCP_y09AI"
      },
      "source": [
        "Lets see the summary of dataset"
      ]
    },
    {
      "cell_type": "code",
      "metadata": {
        "execution": {
          "iopub.status.busy": "2021-10-20T12:32:19.761673Z",
          "iopub.execute_input": "2021-10-20T12:32:19.761947Z",
          "iopub.status.idle": "2021-10-20T12:32:20.203958Z",
          "shell.execute_reply.started": "2021-10-20T12:32:19.761916Z",
          "shell.execute_reply": "2021-10-20T12:32:20.203054Z"
        },
        "trusted": true,
        "id": "co81Vv8d09AI"
      },
      "source": [
        "data.describe().T"
      ],
      "execution_count": null,
      "outputs": []
    },
    {
      "cell_type": "code",
      "metadata": {
        "execution": {
          "iopub.status.busy": "2021-10-20T12:32:20.205237Z",
          "iopub.execute_input": "2021-10-20T12:32:20.205536Z",
          "iopub.status.idle": "2021-10-20T12:32:20.212688Z",
          "shell.execute_reply.started": "2021-10-20T12:32:20.205501Z",
          "shell.execute_reply": "2021-10-20T12:32:20.211734Z"
        },
        "trusted": true,
        "id": "jZVyT2ut09AK"
      },
      "source": [
        "data.shape"
      ],
      "execution_count": null,
      "outputs": []
    },
    {
      "cell_type": "code",
      "metadata": {
        "execution": {
          "iopub.status.busy": "2021-10-20T12:32:20.213884Z",
          "iopub.execute_input": "2021-10-20T12:32:20.214201Z",
          "iopub.status.idle": "2021-10-20T12:32:20.259165Z",
          "shell.execute_reply.started": "2021-10-20T12:32:20.214159Z",
          "shell.execute_reply": "2021-10-20T12:32:20.258030Z"
        },
        "trusted": true,
        "id": "8p_0xERE09AL"
      },
      "source": [
        "data.info()"
      ],
      "execution_count": null,
      "outputs": []
    },
    {
      "cell_type": "markdown",
      "metadata": {
        "id": "r8rviV3i09AN"
      },
      "source": [
        "Seem like the dataset doesn't contain any missing value."
      ]
    },
    {
      "cell_type": "code",
      "metadata": {
        "execution": {
          "iopub.status.busy": "2021-10-20T12:32:20.260564Z",
          "iopub.execute_input": "2021-10-20T12:32:20.260825Z",
          "iopub.status.idle": "2021-10-20T12:32:20.293120Z",
          "shell.execute_reply.started": "2021-10-20T12:32:20.260794Z",
          "shell.execute_reply": "2021-10-20T12:32:20.291488Z"
        },
        "trusted": true,
        "id": "odvOY-4T09AO"
      },
      "source": [
        "fraud = data[(data['Class'] ==1)]\n",
        "normal = data[(data['Class'] != 1)]\n",
        "labels = ['fraud','normal']"
      ],
      "execution_count": null,
      "outputs": []
    },
    {
      "cell_type": "markdown",
      "metadata": {
        "id": "11lClaoU09AP"
      },
      "source": [
        "Generate a pie chart to show Fraud distribution."
      ]
    },
    {
      "cell_type": "code",
      "metadata": {
        "execution": {
          "iopub.status.busy": "2021-10-20T12:32:20.294612Z",
          "iopub.execute_input": "2021-10-20T12:32:20.295092Z",
          "iopub.status.idle": "2021-10-20T12:32:20.395944Z",
          "shell.execute_reply.started": "2021-10-20T12:32:20.295029Z",
          "shell.execute_reply": "2021-10-20T12:32:20.395037Z"
        },
        "trusted": true,
        "id": "LnSdipcP09AQ"
      },
      "source": [
        "fig, ax = plt.subplots()\n",
        "ax.pie([len(fraud),len(normal)], labels = labels, colors = ['blue','red'], autopct='%1.1f%%')\n",
        "ax.set_title('Fraud CC Distribution')\n",
        "plt.show()"
      ],
      "execution_count": null,
      "outputs": []
    },
    {
      "cell_type": "markdown",
      "metadata": {
        "id": "NHnOnYjl09AQ"
      },
      "source": [
        "We can see that the data is highly imbalanced. Lets take a closer look to the distribution of fraud cc"
      ]
    },
    {
      "cell_type": "code",
      "metadata": {
        "execution": {
          "iopub.status.busy": "2021-10-20T12:32:20.397195Z",
          "iopub.execute_input": "2021-10-20T12:32:20.397882Z",
          "iopub.status.idle": "2021-10-20T12:32:20.404522Z",
          "shell.execute_reply.started": "2021-10-20T12:32:20.397851Z",
          "shell.execute_reply": "2021-10-20T12:32:20.403356Z"
        },
        "trusted": true,
        "id": "CJdnoDMr09AR"
      },
      "source": [
        "fraud_pct = np.round(len(fraud)/len(data)*100, 4)\n",
        "fraud_pct"
      ],
      "execution_count": null,
      "outputs": []
    },
    {
      "cell_type": "markdown",
      "metadata": {
        "id": "Jo857zXH09AR"
      },
      "source": [
        "Percentage of fraud cc in this dataset is 0.1727 percent."
      ]
    },
    {
      "cell_type": "markdown",
      "metadata": {
        "id": "3vSrM4mf09AS"
      },
      "source": [
        "When we look back to variable amount, this variable has large spread of value. So we scale the data as unscaled input variables can result in a slow or unstable learning process."
      ]
    },
    {
      "cell_type": "markdown",
      "metadata": {
        "id": "r05nv0Z209AS"
      },
      "source": [
        "# DATA PREPROCESSING"
      ]
    },
    {
      "cell_type": "code",
      "metadata": {
        "execution": {
          "iopub.status.busy": "2021-10-20T12:32:20.406102Z",
          "iopub.execute_input": "2021-10-20T12:32:20.406529Z",
          "iopub.status.idle": "2021-10-20T12:32:20.425674Z",
          "shell.execute_reply.started": "2021-10-20T12:32:20.406486Z",
          "shell.execute_reply": "2021-10-20T12:32:20.424275Z"
        },
        "trusted": true,
        "colab": {
          "base_uri": "https://localhost:8080/",
          "height": 197
        },
        "id": "z3epnWnt09AT",
        "outputId": "d18b8135-b5ee-41ce-d765-ab030199febe"
      },
      "source": [
        "from sklearn.preprocessing import StandardScaler\n",
        "\n",
        "\n",
        "data['amount'] = StandardScaler().fit_transform(data['Amount'].values.reshape(-1,1))"
      ],
      "execution_count": 1,
      "outputs": [
        {
          "output_type": "error",
          "ename": "NameError",
          "evalue": "ignored",
          "traceback": [
            "\u001b[0;31m---------------------------------------------------------------------------\u001b[0m",
            "\u001b[0;31mNameError\u001b[0m                                 Traceback (most recent call last)",
            "\u001b[0;32m<ipython-input-1-a0ca6e575995>\u001b[0m in \u001b[0;36m<module>\u001b[0;34m()\u001b[0m\n\u001b[1;32m      2\u001b[0m \u001b[0;34m\u001b[0m\u001b[0m\n\u001b[1;32m      3\u001b[0m \u001b[0;34m\u001b[0m\u001b[0m\n\u001b[0;32m----> 4\u001b[0;31m \u001b[0mdata\u001b[0m\u001b[0;34m[\u001b[0m\u001b[0;34m'amount'\u001b[0m\u001b[0;34m]\u001b[0m \u001b[0;34m=\u001b[0m \u001b[0mStandardScaler\u001b[0m\u001b[0;34m(\u001b[0m\u001b[0;34m)\u001b[0m\u001b[0;34m.\u001b[0m\u001b[0mfit_transform\u001b[0m\u001b[0;34m(\u001b[0m\u001b[0mdata\u001b[0m\u001b[0;34m[\u001b[0m\u001b[0;34m'Amount'\u001b[0m\u001b[0;34m]\u001b[0m\u001b[0;34m.\u001b[0m\u001b[0mvalues\u001b[0m\u001b[0;34m.\u001b[0m\u001b[0mreshape\u001b[0m\u001b[0;34m(\u001b[0m\u001b[0;34m-\u001b[0m\u001b[0;36m1\u001b[0m\u001b[0;34m,\u001b[0m\u001b[0;36m1\u001b[0m\u001b[0;34m)\u001b[0m\u001b[0;34m)\u001b[0m\u001b[0;34m\u001b[0m\u001b[0;34m\u001b[0m\u001b[0m\n\u001b[0m",
            "\u001b[0;31mNameError\u001b[0m: name 'data' is not defined"
          ]
        }
      ]
    },
    {
      "cell_type": "markdown",
      "metadata": {
        "id": "s7RShxRu09AT"
      },
      "source": [
        "**DROP VARIABLE**"
      ]
    },
    {
      "cell_type": "code",
      "metadata": {
        "execution": {
          "iopub.status.busy": "2021-10-20T12:32:20.427519Z",
          "iopub.execute_input": "2021-10-20T12:32:20.427842Z",
          "iopub.status.idle": "2021-10-20T12:32:20.521166Z",
          "shell.execute_reply.started": "2021-10-20T12:32:20.427812Z",
          "shell.execute_reply": "2021-10-20T12:32:20.520508Z"
        },
        "trusted": true,
        "id": "mMLwDDtd09AU"
      },
      "source": [
        "#Next we drop unnessesary variable (Time and Amount)\n",
        "\n",
        "\n",
        "df = data.drop(['Time','Amount'], axis=1)"
      ],
      "execution_count": null,
      "outputs": []
    },
    {
      "cell_type": "markdown",
      "metadata": {
        "id": "IvsdVpjq09AU"
      },
      "source": [
        "Lets look at our new dataframe"
      ]
    },
    {
      "cell_type": "code",
      "metadata": {
        "execution": {
          "iopub.status.busy": "2021-10-20T12:32:20.522422Z",
          "iopub.execute_input": "2021-10-20T12:32:20.523313Z",
          "iopub.status.idle": "2021-10-20T12:32:20.549775Z",
          "shell.execute_reply.started": "2021-10-20T12:32:20.523270Z",
          "shell.execute_reply": "2021-10-20T12:32:20.548934Z"
        },
        "trusted": true,
        "id": "hzESQB5y09AV"
      },
      "source": [
        "df.head()"
      ],
      "execution_count": null,
      "outputs": []
    },
    {
      "cell_type": "markdown",
      "metadata": {
        "id": "kOa8OKOU09AV"
      },
      "source": [
        "**DEFINE X AND Y**"
      ]
    },
    {
      "cell_type": "code",
      "metadata": {
        "execution": {
          "iopub.status.busy": "2021-10-20T12:32:20.553918Z",
          "iopub.execute_input": "2021-10-20T12:32:20.554778Z",
          "iopub.status.idle": "2021-10-20T12:32:20.589787Z",
          "shell.execute_reply.started": "2021-10-20T12:32:20.554744Z",
          "shell.execute_reply": "2021-10-20T12:32:20.588890Z"
        },
        "trusted": true,
        "id": "f6O85vqt09AW"
      },
      "source": [
        "X = df.drop('Class', axis=1)\n",
        "y = df['Class']"
      ],
      "execution_count": null,
      "outputs": []
    },
    {
      "cell_type": "code",
      "metadata": {
        "execution": {
          "iopub.status.busy": "2021-10-20T12:32:20.591247Z",
          "iopub.execute_input": "2021-10-20T12:32:20.591636Z",
          "iopub.status.idle": "2021-10-20T12:32:20.600520Z",
          "shell.execute_reply.started": "2021-10-20T12:32:20.591591Z",
          "shell.execute_reply": "2021-10-20T12:32:20.598904Z"
        },
        "trusted": true,
        "id": "Z8g1GahF09AW"
      },
      "source": [
        "X.shape"
      ],
      "execution_count": null,
      "outputs": []
    },
    {
      "cell_type": "code",
      "metadata": {
        "execution": {
          "iopub.status.busy": "2021-10-20T12:32:20.601736Z",
          "iopub.execute_input": "2021-10-20T12:32:20.601976Z",
          "iopub.status.idle": "2021-10-20T12:32:20.612056Z",
          "shell.execute_reply.started": "2021-10-20T12:32:20.601947Z",
          "shell.execute_reply": "2021-10-20T12:32:20.611271Z"
        },
        "trusted": true,
        "id": "KU8YVtlK09AW"
      },
      "source": [
        "y.shape"
      ],
      "execution_count": null,
      "outputs": []
    },
    {
      "cell_type": "code",
      "metadata": {
        "execution": {
          "iopub.status.busy": "2021-10-20T12:32:20.613478Z",
          "iopub.execute_input": "2021-10-20T12:32:20.613941Z",
          "iopub.status.idle": "2021-10-20T12:32:20.624495Z",
          "shell.execute_reply.started": "2021-10-20T12:32:20.613910Z",
          "shell.execute_reply": "2021-10-20T12:32:20.623819Z"
        },
        "trusted": true,
        "id": "oS-bJnkn09AX"
      },
      "source": [
        "from imblearn.over_sampling import SMOTE\n"
      ],
      "execution_count": null,
      "outputs": []
    },
    {
      "cell_type": "code",
      "metadata": {
        "execution": {
          "iopub.status.busy": "2021-10-20T12:32:20.626009Z",
          "iopub.execute_input": "2021-10-20T12:32:20.626513Z",
          "iopub.status.idle": "2021-10-20T12:32:21.154815Z",
          "shell.execute_reply.started": "2021-10-20T12:32:20.626480Z",
          "shell.execute_reply": "2021-10-20T12:32:21.153675Z"
        },
        "trusted": true,
        "id": "RgMEf0RL09AX"
      },
      "source": [
        "smote = SMOTE(sampling_strategy ='minority')\n",
        "X_sm, y_sm = smote.fit_resample(X, y)"
      ],
      "execution_count": null,
      "outputs": []
    },
    {
      "cell_type": "code",
      "metadata": {
        "execution": {
          "iopub.status.busy": "2021-10-20T12:32:21.156204Z",
          "iopub.execute_input": "2021-10-20T12:32:21.156483Z",
          "iopub.status.idle": "2021-10-20T12:32:21.163758Z",
          "shell.execute_reply.started": "2021-10-20T12:32:21.156452Z",
          "shell.execute_reply": "2021-10-20T12:32:21.162659Z"
        },
        "trusted": true,
        "id": "7jzS_1bv09AY"
      },
      "source": [
        "X_sm.shape"
      ],
      "execution_count": null,
      "outputs": []
    },
    {
      "cell_type": "code",
      "metadata": {
        "execution": {
          "iopub.status.busy": "2021-10-20T12:32:21.165091Z",
          "iopub.execute_input": "2021-10-20T12:32:21.165384Z",
          "iopub.status.idle": "2021-10-20T12:32:21.177845Z",
          "shell.execute_reply.started": "2021-10-20T12:32:21.165353Z",
          "shell.execute_reply": "2021-10-20T12:32:21.177012Z"
        },
        "trusted": true,
        "id": "xO-H4VzJ09AY"
      },
      "source": [
        "y_sm.shape"
      ],
      "execution_count": null,
      "outputs": []
    },
    {
      "cell_type": "code",
      "metadata": {
        "execution": {
          "iopub.status.busy": "2021-10-20T12:32:21.179055Z",
          "iopub.execute_input": "2021-10-20T12:32:21.180106Z",
          "iopub.status.idle": "2021-10-20T12:32:21.196069Z",
          "shell.execute_reply.started": "2021-10-20T12:32:21.180045Z",
          "shell.execute_reply": "2021-10-20T12:32:21.195362Z"
        },
        "trusted": true,
        "id": "6LoMxGjk09AY"
      },
      "source": [
        "y_sm.head()"
      ],
      "execution_count": null,
      "outputs": []
    },
    {
      "cell_type": "code",
      "metadata": {
        "execution": {
          "iopub.status.busy": "2021-10-20T12:32:21.197384Z",
          "iopub.execute_input": "2021-10-20T12:32:21.197755Z",
          "iopub.status.idle": "2021-10-20T12:32:21.214930Z",
          "shell.execute_reply.started": "2021-10-20T12:32:21.197725Z",
          "shell.execute_reply": "2021-10-20T12:32:21.213345Z"
        },
        "trusted": true,
        "id": "C0884bd709AY"
      },
      "source": [
        "y_sm==1"
      ],
      "execution_count": null,
      "outputs": []
    },
    {
      "cell_type": "code",
      "metadata": {
        "execution": {
          "iopub.status.busy": "2021-10-20T12:32:21.216896Z",
          "iopub.execute_input": "2021-10-20T12:32:21.217910Z",
          "iopub.status.idle": "2021-10-20T12:32:21.310390Z",
          "shell.execute_reply.started": "2021-10-20T12:32:21.217871Z",
          "shell.execute_reply": "2021-10-20T12:32:21.309288Z"
        },
        "trusted": true,
        "id": "_3MCguhs09AZ"
      },
      "source": [
        "fig, ax = plt.subplots()\n",
        "ax.pie([len(y_sm==1),len(y_sm!=1)], labels = ['fraud', 'normal'], colors = ['blue','red'], autopct='%1.1f%%')\n",
        "ax.set_title('Fraud CC Distribution')\n",
        "plt.show()"
      ],
      "execution_count": null,
      "outputs": []
    },
    {
      "cell_type": "markdown",
      "metadata": {
        "id": "P956YX3m09AZ"
      },
      "source": [
        "**TRAIN TEST SPLIT**"
      ]
    },
    {
      "cell_type": "code",
      "metadata": {
        "execution": {
          "iopub.status.busy": "2021-10-20T12:32:21.311697Z",
          "iopub.execute_input": "2021-10-20T12:32:21.311932Z",
          "iopub.status.idle": "2021-10-20T12:32:21.317569Z",
          "shell.execute_reply.started": "2021-10-20T12:32:21.311906Z",
          "shell.execute_reply": "2021-10-20T12:32:21.316536Z"
        },
        "trusted": true,
        "id": "JX1A-ICD09AZ"
      },
      "source": [
        "from sklearn.model_selection import train_test_split"
      ],
      "execution_count": null,
      "outputs": []
    },
    {
      "cell_type": "code",
      "metadata": {
        "execution": {
          "iopub.status.busy": "2021-10-20T12:32:21.319240Z",
          "iopub.execute_input": "2021-10-20T12:32:21.320484Z",
          "iopub.status.idle": "2021-10-20T12:32:21.987749Z",
          "shell.execute_reply.started": "2021-10-20T12:32:21.320354Z",
          "shell.execute_reply": "2021-10-20T12:32:21.986698Z"
        },
        "trusted": true,
        "id": "0QEaH77B09Aa"
      },
      "source": [
        "#Set seed\n",
        "\n",
        "\n",
        "seed=42\n",
        "X_train, X_test, y_train, y_test = train_test_split(X_sm, y_sm, test_size = 0.25, random_state = seed, stratify = y_sm)"
      ],
      "execution_count": null,
      "outputs": []
    },
    {
      "cell_type": "markdown",
      "metadata": {
        "id": "7PCwSSoc09Aa"
      },
      "source": [
        ""
      ]
    },
    {
      "cell_type": "markdown",
      "metadata": {
        "id": "DtcIPv-I09Aa"
      },
      "source": [
        "# CATBOOST CLASSIFIER"
      ]
    },
    {
      "cell_type": "code",
      "metadata": {
        "execution": {
          "iopub.status.busy": "2021-10-20T12:32:21.989328Z",
          "iopub.execute_input": "2021-10-20T12:32:21.989581Z",
          "iopub.status.idle": "2021-10-20T12:32:21.993055Z",
          "shell.execute_reply.started": "2021-10-20T12:32:21.989549Z",
          "shell.execute_reply": "2021-10-20T12:32:21.992105Z"
        },
        "trusted": true,
        "id": "GcC6ZE3O09Ab"
      },
      "source": [
        "#!pip install catboost"
      ],
      "execution_count": null,
      "outputs": []
    },
    {
      "cell_type": "code",
      "metadata": {
        "execution": {
          "iopub.status.busy": "2021-10-20T12:32:21.994481Z",
          "iopub.execute_input": "2021-10-20T12:32:21.994888Z",
          "iopub.status.idle": "2021-10-20T12:32:22.010226Z",
          "shell.execute_reply.started": "2021-10-20T12:32:21.994856Z",
          "shell.execute_reply": "2021-10-20T12:32:22.009194Z"
        },
        "trusted": true,
        "id": "JfWyu2wi09Ab"
      },
      "source": [
        "import catboost"
      ],
      "execution_count": null,
      "outputs": []
    },
    {
      "cell_type": "markdown",
      "metadata": {
        "id": "H20ZH2Uc09Ab"
      },
      "source": [
        "Import model solving classification task"
      ]
    },
    {
      "cell_type": "code",
      "metadata": {
        "execution": {
          "iopub.status.busy": "2021-10-20T12:32:22.011591Z",
          "iopub.execute_input": "2021-10-20T12:32:22.011837Z",
          "iopub.status.idle": "2021-10-20T12:32:22.025421Z",
          "shell.execute_reply.started": "2021-10-20T12:32:22.011809Z",
          "shell.execute_reply": "2021-10-20T12:32:22.024531Z"
        },
        "trusted": true,
        "id": "c9208gsf09Ac"
      },
      "source": [
        "from catboost import CatBoostClassifier"
      ],
      "execution_count": null,
      "outputs": []
    },
    {
      "cell_type": "code",
      "metadata": {
        "execution": {
          "iopub.status.busy": "2021-10-20T12:32:22.026608Z",
          "iopub.execute_input": "2021-10-20T12:32:22.027262Z",
          "iopub.status.idle": "2021-10-20T12:32:22.039944Z",
          "shell.execute_reply.started": "2021-10-20T12:32:22.027226Z",
          "shell.execute_reply": "2021-10-20T12:32:22.039058Z"
        },
        "trusted": true,
        "id": "X9Pw37vi09Ac"
      },
      "source": [
        "from sklearn.model_selection import GridSearchCV"
      ],
      "execution_count": null,
      "outputs": []
    },
    {
      "cell_type": "code",
      "metadata": {
        "execution": {
          "iopub.status.busy": "2021-10-20T12:32:22.041108Z",
          "iopub.execute_input": "2021-10-20T12:32:22.041886Z",
          "iopub.status.idle": "2021-10-20T12:32:22.054170Z",
          "shell.execute_reply.started": "2021-10-20T12:32:22.041843Z",
          "shell.execute_reply": "2021-10-20T12:32:22.053328Z"
        },
        "trusted": true,
        "id": "xd_dQsrR09Ac"
      },
      "source": [
        "cbc = CatBoostClassifier(loss_function= 'Logloss',eval_metric = 'AUC:hints=skip_train~false', random_seed = seed)"
      ],
      "execution_count": null,
      "outputs": []
    },
    {
      "cell_type": "markdown",
      "metadata": {
        "id": "yLbMKkPf09Ad"
      },
      "source": [
        "for further details of catboost.\n",
        "https://catboost.ai/en/docs/concepts/python-reference_catboostclassifier"
      ]
    },
    {
      "cell_type": "code",
      "metadata": {
        "execution": {
          "iopub.status.busy": "2021-10-20T12:32:22.055452Z",
          "iopub.execute_input": "2021-10-20T12:32:22.056046Z",
          "iopub.status.idle": "2021-10-20T12:32:22.069038Z",
          "shell.execute_reply.started": "2021-10-20T12:32:22.056009Z",
          "shell.execute_reply": "2021-10-20T12:32:22.068073Z"
        },
        "trusted": true,
        "id": "Qig-cqlz09Ad"
      },
      "source": [
        "params = {\n",
        "    'depth': [6,8,10],\n",
        "    'iterations': [50, 100, 200],\n",
        "    'learning_rate': [0.01, 0.1, 0.3],\n",
        "    }"
      ],
      "execution_count": null,
      "outputs": []
    },
    {
      "cell_type": "code",
      "metadata": {
        "execution": {
          "iopub.status.busy": "2021-10-20T12:32:22.070432Z",
          "iopub.execute_input": "2021-10-20T12:32:22.070719Z",
          "iopub.status.idle": "2021-10-20T12:58:37.228880Z",
          "shell.execute_reply.started": "2021-10-20T12:32:22.070684Z",
          "shell.execute_reply": "2021-10-20T12:58:37.227951Z"
        },
        "trusted": true,
        "id": "yAiFh9RD09Ae"
      },
      "source": [
        "%%time\n",
        "grid = GridSearchCV(estimator=cbc, param_grid = params, cv = 3, n_jobs=-1)\n",
        "grid.fit(X_train, y_train)"
      ],
      "execution_count": null,
      "outputs": []
    },
    {
      "cell_type": "code",
      "metadata": {
        "execution": {
          "iopub.status.busy": "2021-10-20T12:58:37.230950Z",
          "iopub.execute_input": "2021-10-20T12:58:37.232628Z",
          "iopub.status.idle": "2021-10-20T12:58:37.239592Z",
          "shell.execute_reply.started": "2021-10-20T12:58:37.232573Z",
          "shell.execute_reply": "2021-10-20T12:58:37.238751Z"
        },
        "trusted": true,
        "id": "woQ2JDuS09Ae"
      },
      "source": [
        "grid.best_estimator_"
      ],
      "execution_count": null,
      "outputs": []
    },
    {
      "cell_type": "code",
      "metadata": {
        "execution": {
          "iopub.status.busy": "2021-10-20T12:58:37.241248Z",
          "iopub.execute_input": "2021-10-20T12:58:37.241767Z",
          "iopub.status.idle": "2021-10-20T12:58:37.254084Z",
          "shell.execute_reply.started": "2021-10-20T12:58:37.241722Z",
          "shell.execute_reply": "2021-10-20T12:58:37.253161Z"
        },
        "trusted": true,
        "id": "87Y9U_ur09Ae"
      },
      "source": [
        "grid.best_score_"
      ],
      "execution_count": null,
      "outputs": []
    },
    {
      "cell_type": "code",
      "metadata": {
        "execution": {
          "iopub.status.busy": "2021-10-20T12:58:37.255715Z",
          "iopub.execute_input": "2021-10-20T12:58:37.256233Z",
          "iopub.status.idle": "2021-10-20T12:58:37.267892Z",
          "shell.execute_reply.started": "2021-10-20T12:58:37.256187Z",
          "shell.execute_reply": "2021-10-20T12:58:37.266996Z"
        },
        "trusted": true,
        "id": "04JXPVjV09Af"
      },
      "source": [
        "grid.best_params_"
      ],
      "execution_count": null,
      "outputs": []
    },
    {
      "cell_type": "code",
      "metadata": {
        "execution": {
          "iopub.status.busy": "2021-10-20T12:58:37.269180Z",
          "iopub.execute_input": "2021-10-20T12:58:37.269444Z",
          "iopub.status.idle": "2021-10-20T12:58:37.280480Z",
          "shell.execute_reply.started": "2021-10-20T12:58:37.269415Z",
          "shell.execute_reply": "2021-10-20T12:58:37.279493Z"
        },
        "trusted": true,
        "id": "dZekfpAB09Af"
      },
      "source": [
        "#grid_cbc.fit(X_train, y_train)"
      ],
      "execution_count": null,
      "outputs": []
    },
    {
      "cell_type": "code",
      "metadata": {
        "execution": {
          "iopub.status.busy": "2021-10-20T12:58:37.281788Z",
          "iopub.execute_input": "2021-10-20T12:58:37.282296Z",
          "iopub.status.idle": "2021-10-20T12:58:37.296848Z",
          "shell.execute_reply.started": "2021-10-20T12:58:37.282260Z",
          "shell.execute_reply": "2021-10-20T12:58:37.295745Z"
        },
        "trusted": true,
        "id": "bWKFB6m109Af"
      },
      "source": [
        "#print(\" Results from Grid Search \" )\n",
        "#print(\"\\n The best estimator across ALL searched params:\\n\",grid_cbc.best_estimator_)\n",
        "#print(\"\\n The best score across ALL searched params:\\n\",grid_cbc.best_score_)\n",
        "#print(\"\\n The best parameters across ALL searched params:\\n\",grid_cbc.best_params_)"
      ],
      "execution_count": null,
      "outputs": []
    },
    {
      "cell_type": "code",
      "metadata": {
        "trusted": true,
        "id": "2uLKDedM09Ag"
      },
      "source": [
        ""
      ],
      "execution_count": null,
      "outputs": []
    }
  ]
}